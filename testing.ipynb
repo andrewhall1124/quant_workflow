{
 "cells": [
  {
   "cell_type": "code",
   "execution_count": 50,
   "metadata": {},
   "outputs": [],
   "source": [
    "import pandas as pd\n",
    "import numpy as np\n",
    "import pendulum\n",
    "from datetime import datetime, timedelta\n",
    "from dotenv import load_dotenv\n",
    "import os"
   ]
  },
  {
   "cell_type": "code",
   "execution_count": 51,
   "metadata": {},
   "outputs": [],
   "source": [
    "from alpaca.data.historical.stock import StockHistoricalDataClient\n",
    "from alpaca.data.requests import StockBarsRequest \n",
    "from alpaca.data.timeframe import TimeFrame\n",
    "from alpaca.trading.client import TradingClient\n",
    "from alpaca.trading.requests import GetAssetsRequest\n",
    "from alpaca.trading.enums import AssetStatus\n",
    "from alpaca.trading.enums import AssetClass\n",
    "from alpaca.data.enums import Adjustment\n",
    "from alpaca.data.timeframe import TimeFrameUnit"
   ]
  },
  {
   "cell_type": "code",
   "execution_count": 52,
   "metadata": {},
   "outputs": [],
   "source": [
    "# Environment Variables\n",
    "load_dotenv()\n",
    "\n",
    "api_key = os.getenv(\"ALPACA_API_KEY\")\n",
    "secret_key = os.getenv(\"ALPACA_SECRET_KEY\")"
   ]
  },
  {
   "cell_type": "code",
   "execution_count": 53,
   "metadata": {},
   "outputs": [],
   "source": [
    "# clients\n",
    "data_client = StockHistoricalDataClient(api_key,secret_key)\n",
    "trading_client = TradingClient(api_key,secret_key)"
   ]
  },
  {
   "cell_type": "code",
   "execution_count": 54,
   "metadata": {},
   "outputs": [],
   "source": [
    "# Parameters\n",
    "end = pendulum.datetime(2024,7,4)\n",
    "start = end.subtract(days=2)"
   ]
  },
  {
   "cell_type": "code",
   "execution_count": 55,
   "metadata": {},
   "outputs": [],
   "source": [
    "# Get all current assets\n",
    "asset_request = GetAssetsRequest(\n",
    "    status = AssetStatus.ACTIVE,\n",
    "    asset_class = AssetClass.US_EQUITY,\n",
    ")\n",
    "\n",
    "all_assets = trading_client.get_all_assets(asset_request)\n",
    "\n",
    "all_assets = [vars(asset) for asset in all_assets] # Convert objects to dicts"
   ]
  },
  {
   "cell_type": "code",
   "execution_count": 56,
   "metadata": {},
   "outputs": [
    {
     "data": {
      "text/html": [
       "<div>\n",
       "<style scoped>\n",
       "    .dataframe tbody tr th:only-of-type {\n",
       "        vertical-align: middle;\n",
       "    }\n",
       "\n",
       "    .dataframe tbody tr th {\n",
       "        vertical-align: top;\n",
       "    }\n",
       "\n",
       "    .dataframe thead th {\n",
       "        text-align: right;\n",
       "    }\n",
       "</style>\n",
       "<table border=\"1\" class=\"dataframe\">\n",
       "  <thead>\n",
       "    <tr style=\"text-align: right;\">\n",
       "      <th></th>\n",
       "      <th>id</th>\n",
       "      <th>asset_class</th>\n",
       "      <th>exchange</th>\n",
       "      <th>symbol</th>\n",
       "      <th>name</th>\n",
       "      <th>status</th>\n",
       "      <th>tradable</th>\n",
       "      <th>marginable</th>\n",
       "      <th>shortable</th>\n",
       "      <th>easy_to_borrow</th>\n",
       "      <th>fractionable</th>\n",
       "      <th>min_order_size</th>\n",
       "      <th>min_trade_increment</th>\n",
       "      <th>price_increment</th>\n",
       "      <th>maintenance_margin_requirement</th>\n",
       "      <th>attributes</th>\n",
       "    </tr>\n",
       "  </thead>\n",
       "  <tbody>\n",
       "    <tr>\n",
       "      <th>474</th>\n",
       "      <td>053c672d-ee2a-4344-8907-3ad4d1d1e180</td>\n",
       "      <td>AssetClass.US_EQUITY</td>\n",
       "      <td>AssetExchange.NYSE</td>\n",
       "      <td>HGTY</td>\n",
       "      <td>Hagerty, Inc.</td>\n",
       "      <td>AssetStatus.ACTIVE</td>\n",
       "      <td>True</td>\n",
       "      <td>True</td>\n",
       "      <td>True</td>\n",
       "      <td>True</td>\n",
       "      <td>True</td>\n",
       "      <td>None</td>\n",
       "      <td>None</td>\n",
       "      <td>None</td>\n",
       "      <td>30.0</td>\n",
       "      <td>[fractional_eh_enabled, has_options]</td>\n",
       "    </tr>\n",
       "  </tbody>\n",
       "</table>\n",
       "</div>"
      ],
      "text/plain": [
       "                                       id           asset_class  \\\n",
       "474  053c672d-ee2a-4344-8907-3ad4d1d1e180  AssetClass.US_EQUITY   \n",
       "\n",
       "               exchange symbol           name              status  tradable  \\\n",
       "474  AssetExchange.NYSE   HGTY  Hagerty, Inc.  AssetStatus.ACTIVE      True   \n",
       "\n",
       "     marginable  shortable  easy_to_borrow  fractionable min_order_size  \\\n",
       "474        True       True            True          True           None   \n",
       "\n",
       "    min_trade_increment price_increment  maintenance_margin_requirement  \\\n",
       "474                None            None                            30.0   \n",
       "\n",
       "                               attributes  \n",
       "474  [fractional_eh_enabled, has_options]  "
      ]
     },
     "execution_count": 56,
     "metadata": {},
     "output_type": "execute_result"
    }
   ],
   "source": [
    "df = pd.DataFrame(data=all_assets)\n",
    "\n",
    "df = df[df['tradable'] & df['fractionable'] & df['shortable']]\n",
    "\n",
    "df.head(1)"
   ]
  },
  {
   "cell_type": "code",
   "execution_count": 57,
   "metadata": {},
   "outputs": [],
   "source": [
    "symbols = df['symbol'].to_list()"
   ]
  },
  {
   "cell_type": "code",
   "execution_count": 58,
   "metadata": {},
   "outputs": [],
   "source": [
    "# Get previous days market data\n",
    "bars_request = StockBarsRequest(\n",
    "    symbol_or_symbols=symbols,\n",
    "    timeframe=TimeFrame(1,TimeFrameUnit.Day),\n",
    "    start=start,\n",
    "    end=end,\n",
    "    adjustment=Adjustment.ALL,\n",
    ")\n",
    "\n",
    "bars = data_client.get_stock_bars(bars_request)"
   ]
  },
  {
   "cell_type": "code",
   "execution_count": 59,
   "metadata": {},
   "outputs": [
    {
     "data": {
      "text/html": [
       "<div>\n",
       "<style scoped>\n",
       "    .dataframe tbody tr th:only-of-type {\n",
       "        vertical-align: middle;\n",
       "    }\n",
       "\n",
       "    .dataframe tbody tr th {\n",
       "        vertical-align: top;\n",
       "    }\n",
       "\n",
       "    .dataframe thead th {\n",
       "        text-align: right;\n",
       "    }\n",
       "</style>\n",
       "<table border=\"1\" class=\"dataframe\">\n",
       "  <thead>\n",
       "    <tr style=\"text-align: right;\">\n",
       "      <th></th>\n",
       "      <th>symbol</th>\n",
       "      <th>timestamp</th>\n",
       "      <th>open</th>\n",
       "      <th>high</th>\n",
       "      <th>low</th>\n",
       "      <th>close</th>\n",
       "      <th>volume</th>\n",
       "      <th>trade_count</th>\n",
       "      <th>vwap</th>\n",
       "    </tr>\n",
       "  </thead>\n",
       "  <tbody>\n",
       "    <tr>\n",
       "      <th>0</th>\n",
       "      <td>ALTI</td>\n",
       "      <td>2024-07-02 04:00:00+00:00</td>\n",
       "      <td>4.86</td>\n",
       "      <td>4.900</td>\n",
       "      <td>4.6000</td>\n",
       "      <td>4.80</td>\n",
       "      <td>112836.0</td>\n",
       "      <td>1584.0</td>\n",
       "      <td>4.762368</td>\n",
       "    </tr>\n",
       "    <tr>\n",
       "      <th>1</th>\n",
       "      <td>ALTI</td>\n",
       "      <td>2024-07-03 04:00:00+00:00</td>\n",
       "      <td>4.84</td>\n",
       "      <td>4.840</td>\n",
       "      <td>4.6737</td>\n",
       "      <td>4.76</td>\n",
       "      <td>19077.0</td>\n",
       "      <td>467.0</td>\n",
       "      <td>4.746862</td>\n",
       "    </tr>\n",
       "    <tr>\n",
       "      <th>2</th>\n",
       "      <td>AWI</td>\n",
       "      <td>2024-07-02 04:00:00+00:00</td>\n",
       "      <td>110.95</td>\n",
       "      <td>112.985</td>\n",
       "      <td>110.9000</td>\n",
       "      <td>112.23</td>\n",
       "      <td>267223.0</td>\n",
       "      <td>6290.0</td>\n",
       "      <td>112.111249</td>\n",
       "    </tr>\n",
       "  </tbody>\n",
       "</table>\n",
       "</div>"
      ],
      "text/plain": [
       "  symbol                 timestamp    open     high       low   close  \\\n",
       "0   ALTI 2024-07-02 04:00:00+00:00    4.86    4.900    4.6000    4.80   \n",
       "1   ALTI 2024-07-03 04:00:00+00:00    4.84    4.840    4.6737    4.76   \n",
       "2    AWI 2024-07-02 04:00:00+00:00  110.95  112.985  110.9000  112.23   \n",
       "\n",
       "     volume  trade_count        vwap  \n",
       "0  112836.0       1584.0    4.762368  \n",
       "1   19077.0        467.0    4.746862  \n",
       "2  267223.0       6290.0  112.111249  "
      ]
     },
     "execution_count": 59,
     "metadata": {},
     "output_type": "execute_result"
    }
   ],
   "source": [
    "df = bars.df\n",
    "\n",
    "df = df.reset_index()\n",
    "\n",
    "df.head(3)"
   ]
  },
  {
   "cell_type": "code",
   "execution_count": null,
   "metadata": {},
   "outputs": [],
   "source": []
  }
 ],
 "metadata": {
  "kernelspec": {
   "display_name": "venv",
   "language": "python",
   "name": "python3"
  },
  "language_info": {
   "codemirror_mode": {
    "name": "ipython",
    "version": 3
   },
   "file_extension": ".py",
   "mimetype": "text/x-python",
   "name": "python",
   "nbconvert_exporter": "python",
   "pygments_lexer": "ipython3",
   "version": "3.10.10"
  }
 },
 "nbformat": 4,
 "nbformat_minor": 2
}
