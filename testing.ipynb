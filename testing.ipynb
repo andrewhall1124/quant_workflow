{
 "cells": [
  {
   "cell_type": "code",
   "execution_count": 21,
   "metadata": {},
   "outputs": [],
   "source": [
    "import pandas as pd\n",
    "import numpy as np\n",
    "import pendulum\n",
    "from datetime import datetime, timedelta\n",
    "from dotenv import load_dotenv\n",
    "import os"
   ]
  },
  {
   "cell_type": "code",
   "execution_count": 22,
   "metadata": {},
   "outputs": [],
   "source": [
    "from alpaca.data.historical.stock import StockHistoricalDataClient\n",
    "from alpaca.data.requests import StockBarsRequest \n",
    "from alpaca.data.timeframe import TimeFrame\n",
    "from alpaca.trading.client import TradingClient\n",
    "from alpaca.trading.requests import GetAssetsRequest\n",
    "from alpaca.trading.enums import AssetStatus\n",
    "from alpaca.trading.enums import AssetClass\n",
    "from alpaca.data.enums import Adjustment\n",
    "from alpaca.data.timeframe import TimeFrameUnit"
   ]
  },
  {
   "cell_type": "code",
   "execution_count": 23,
   "metadata": {},
   "outputs": [],
   "source": [
    "# Environment Variables\n",
    "load_dotenv()\n",
    "\n",
    "api_key = os.getenv(\"ALPACA_API_KEY\")\n",
    "secret_key = os.getenv(\"ALPACA_SECRET_KEY\")"
   ]
  },
  {
   "cell_type": "code",
   "execution_count": 24,
   "metadata": {},
   "outputs": [],
   "source": [
    "# clients\n",
    "data_client = StockHistoricalDataClient(api_key,secret_key)\n",
    "trading_client = TradingClient(api_key,secret_key)"
   ]
  },
  {
   "cell_type": "code",
   "execution_count": 25,
   "metadata": {},
   "outputs": [],
   "source": [
    "# Parameters\n",
    "end = pendulum.datetime(2024,7,4)\n",
    "start = end.subtract(days=2)"
   ]
  },
  {
   "cell_type": "code",
   "execution_count": 26,
   "metadata": {},
   "outputs": [],
   "source": [
    "# Get all current assets\n",
    "asset_request = GetAssetsRequest(\n",
    "    status = AssetStatus.ACTIVE,\n",
    "    asset_class = AssetClass.US_EQUITY,\n",
    ")\n",
    "\n",
    "all_assets = trading_client.get_all_assets(asset_request)\n",
    "\n",
    "all_assets = [vars(asset) for asset in all_assets] # Convert objects to dicts"
   ]
  },
  {
   "cell_type": "code",
   "execution_count": 27,
   "metadata": {},
   "outputs": [
    {
     "data": {
      "text/html": [
       "<div>\n",
       "<style scoped>\n",
       "    .dataframe tbody tr th:only-of-type {\n",
       "        vertical-align: middle;\n",
       "    }\n",
       "\n",
       "    .dataframe tbody tr th {\n",
       "        vertical-align: top;\n",
       "    }\n",
       "\n",
       "    .dataframe thead th {\n",
       "        text-align: right;\n",
       "    }\n",
       "</style>\n",
       "<table border=\"1\" class=\"dataframe\">\n",
       "  <thead>\n",
       "    <tr style=\"text-align: right;\">\n",
       "      <th></th>\n",
       "      <th>id</th>\n",
       "      <th>asset_class</th>\n",
       "      <th>exchange</th>\n",
       "      <th>symbol</th>\n",
       "      <th>name</th>\n",
       "      <th>status</th>\n",
       "      <th>tradable</th>\n",
       "      <th>marginable</th>\n",
       "      <th>shortable</th>\n",
       "      <th>easy_to_borrow</th>\n",
       "      <th>fractionable</th>\n",
       "      <th>min_order_size</th>\n",
       "      <th>min_trade_increment</th>\n",
       "      <th>price_increment</th>\n",
       "      <th>maintenance_margin_requirement</th>\n",
       "      <th>attributes</th>\n",
       "    </tr>\n",
       "  </thead>\n",
       "  <tbody>\n",
       "    <tr>\n",
       "      <th>434</th>\n",
       "      <td>4a0d2ab4-8091-4b80-8d25-7ba2ff417116</td>\n",
       "      <td>AssetClass.US_EQUITY</td>\n",
       "      <td>AssetExchange.NASDAQ</td>\n",
       "      <td>CASS</td>\n",
       "      <td>Cass Information Systems, Inc Common Stock</td>\n",
       "      <td>AssetStatus.ACTIVE</td>\n",
       "      <td>True</td>\n",
       "      <td>True</td>\n",
       "      <td>True</td>\n",
       "      <td>True</td>\n",
       "      <td>True</td>\n",
       "      <td>None</td>\n",
       "      <td>None</td>\n",
       "      <td>None</td>\n",
       "      <td>30.0</td>\n",
       "      <td>[fractional_eh_enabled, has_options]</td>\n",
       "    </tr>\n",
       "  </tbody>\n",
       "</table>\n",
       "</div>"
      ],
      "text/plain": [
       "                                       id           asset_class  \\\n",
       "434  4a0d2ab4-8091-4b80-8d25-7ba2ff417116  AssetClass.US_EQUITY   \n",
       "\n",
       "                 exchange symbol                                        name  \\\n",
       "434  AssetExchange.NASDAQ   CASS  Cass Information Systems, Inc Common Stock   \n",
       "\n",
       "                 status  tradable  marginable  shortable  easy_to_borrow  \\\n",
       "434  AssetStatus.ACTIVE      True        True       True            True   \n",
       "\n",
       "     fractionable min_order_size min_trade_increment price_increment  \\\n",
       "434          True           None                None            None   \n",
       "\n",
       "     maintenance_margin_requirement                            attributes  \n",
       "434                            30.0  [fractional_eh_enabled, has_options]  "
      ]
     },
     "execution_count": 27,
     "metadata": {},
     "output_type": "execute_result"
    }
   ],
   "source": [
    "df = pd.DataFrame(data=all_assets)\n",
    "\n",
    "df = df[df['tradable'] & df['fractionable'] & df['shortable']]\n",
    "\n",
    "df.to_csv(\"assets_test.csv\",index=False)\n",
    "\n",
    "df.head(1)"
   ]
  },
  {
   "cell_type": "code",
   "execution_count": 28,
   "metadata": {},
   "outputs": [],
   "source": [
    "symbols = df['symbol'].to_list()"
   ]
  },
  {
   "cell_type": "code",
   "execution_count": 29,
   "metadata": {},
   "outputs": [],
   "source": [
    "# Get previous days market data\n",
    "bars_request = StockBarsRequest(\n",
    "    symbol_or_symbols=symbols,\n",
    "    timeframe=TimeFrame(1,TimeFrameUnit.Day),\n",
    "    start=start,\n",
    "    end=end,\n",
    "    adjustment=Adjustment.ALL,\n",
    ")\n",
    "\n",
    "bars = data_client.get_stock_bars(bars_request)"
   ]
  },
  {
   "cell_type": "code",
   "execution_count": 30,
   "metadata": {},
   "outputs": [
    {
     "data": {
      "text/html": [
       "<div>\n",
       "<style scoped>\n",
       "    .dataframe tbody tr th:only-of-type {\n",
       "        vertical-align: middle;\n",
       "    }\n",
       "\n",
       "    .dataframe tbody tr th {\n",
       "        vertical-align: top;\n",
       "    }\n",
       "\n",
       "    .dataframe thead th {\n",
       "        text-align: right;\n",
       "    }\n",
       "</style>\n",
       "<table border=\"1\" class=\"dataframe\">\n",
       "  <thead>\n",
       "    <tr style=\"text-align: right;\">\n",
       "      <th></th>\n",
       "      <th>symbol</th>\n",
       "      <th>timestamp</th>\n",
       "      <th>open</th>\n",
       "      <th>high</th>\n",
       "      <th>low</th>\n",
       "      <th>close</th>\n",
       "      <th>volume</th>\n",
       "      <th>trade_count</th>\n",
       "      <th>vwap</th>\n",
       "    </tr>\n",
       "  </thead>\n",
       "  <tbody>\n",
       "    <tr>\n",
       "      <th>0</th>\n",
       "      <td>AKRO</td>\n",
       "      <td>2024-07-02 04:00:00+00:00</td>\n",
       "      <td>23.03</td>\n",
       "      <td>23.2100</td>\n",
       "      <td>22.23</td>\n",
       "      <td>22.38</td>\n",
       "      <td>432928.0</td>\n",
       "      <td>8713.0</td>\n",
       "      <td>22.447360</td>\n",
       "    </tr>\n",
       "    <tr>\n",
       "      <th>1</th>\n",
       "      <td>AKRO</td>\n",
       "      <td>2024-07-03 04:00:00+00:00</td>\n",
       "      <td>22.22</td>\n",
       "      <td>22.3900</td>\n",
       "      <td>21.74</td>\n",
       "      <td>21.93</td>\n",
       "      <td>216345.0</td>\n",
       "      <td>4390.0</td>\n",
       "      <td>21.978922</td>\n",
       "    </tr>\n",
       "    <tr>\n",
       "      <th>2</th>\n",
       "      <td>AMZA</td>\n",
       "      <td>2024-07-02 04:00:00+00:00</td>\n",
       "      <td>41.27</td>\n",
       "      <td>41.8376</td>\n",
       "      <td>41.27</td>\n",
       "      <td>41.48</td>\n",
       "      <td>28067.0</td>\n",
       "      <td>421.0</td>\n",
       "      <td>41.512591</td>\n",
       "    </tr>\n",
       "  </tbody>\n",
       "</table>\n",
       "</div>"
      ],
      "text/plain": [
       "  symbol                 timestamp   open     high    low  close    volume  \\\n",
       "0   AKRO 2024-07-02 04:00:00+00:00  23.03  23.2100  22.23  22.38  432928.0   \n",
       "1   AKRO 2024-07-03 04:00:00+00:00  22.22  22.3900  21.74  21.93  216345.0   \n",
       "2   AMZA 2024-07-02 04:00:00+00:00  41.27  41.8376  41.27  41.48   28067.0   \n",
       "\n",
       "   trade_count       vwap  \n",
       "0       8713.0  22.447360  \n",
       "1       4390.0  21.978922  \n",
       "2        421.0  41.512591  "
      ]
     },
     "execution_count": 30,
     "metadata": {},
     "output_type": "execute_result"
    }
   ],
   "source": [
    "df = bars.df\n",
    "\n",
    "df = df.reset_index()\n",
    "\n",
    "df.head(3)"
   ]
  },
  {
   "cell_type": "code",
   "execution_count": null,
   "metadata": {},
   "outputs": [],
   "source": []
  }
 ],
 "metadata": {
  "kernelspec": {
   "display_name": "venv",
   "language": "python",
   "name": "python3"
  },
  "language_info": {
   "codemirror_mode": {
    "name": "ipython",
    "version": 3
   },
   "file_extension": ".py",
   "mimetype": "text/x-python",
   "name": "python",
   "nbconvert_exporter": "python",
   "pygments_lexer": "ipython3",
   "version": "3.10.10"
  }
 },
 "nbformat": 4,
 "nbformat_minor": 2
}
